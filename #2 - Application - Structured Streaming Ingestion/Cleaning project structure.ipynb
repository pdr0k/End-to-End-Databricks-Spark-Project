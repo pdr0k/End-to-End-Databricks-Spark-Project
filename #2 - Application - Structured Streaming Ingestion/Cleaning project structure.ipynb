{
 "cells": [
  {
   "cell_type": "code",
   "execution_count": 0,
   "metadata": {
    "application/vnd.databricks.v1+cell": {
     "cellMetadata": {
      "byteLimit": 2048000,
      "rowLimit": 10000
     },
     "inputWidgets": {},
     "nuid": "14304bee-8ff4-428e-bfdf-c3893f463248",
     "showTitle": false,
     "tableResultSettingsMap": {},
     "title": ""
    }
   },
   "outputs": [
    {
     "output_type": "stream",
     "name": "stdout",
     "output_type": "stream",
     "text": [
      "\u001B[43mNote: you may need to restart the kernel using dbutils.library.restartPython() to use updated packages.\u001B[0m\nCollecting Faker\n  Using cached Faker-33.1.0-py3-none-any.whl (1.9 MB)\nRequirement already satisfied: python-dateutil>=2.4 in /databricks/python3/lib/python3.10/site-packages (from Faker) (2.8.2)\nRequirement already satisfied: typing-extensions in /databricks/python3/lib/python3.10/site-packages (from Faker) (4.4.0)\nRequirement already satisfied: six>=1.5 in /usr/lib/python3/dist-packages (from python-dateutil>=2.4->Faker) (1.16.0)\nInstalling collected packages: Faker\nSuccessfully installed Faker-33.1.0\n\u001B[43mNote: you may need to restart the kernel using dbutils.library.restartPython() to use updated packages.\u001B[0m\n"
     ]
    },
    {
     "output_type": "display_data",
     "data": {
      "text/html": [
       "<div class = \"ansiout\">/**<br /> * Copies a file or directory, possibly across FileSystems..<br /> * <br /> * Example: cp(\"/mnt/my-folder/a\", \"s3n://bucket/b\")<br /> * <br /> * @param from FileSystem URI of the source file or directory<br /> * @param to FileSystem URI of the destination file or directory<br /> * @param recurse if true, all files and directories will be recursively copied<br /> * @return true if all files were successfully copied<br /> */<br /><b>cp(from: java.lang.String, to: java.lang.String, recurse: boolean = false): boolean</b></div><br />"
      ]
     },
     "metadata": {},
     "output_type": "display_data"
    },
    {
     "output_type": "display_data",
     "data": {
      "text/html": [
       "<div class = \"ansiout\">/**<br /> * Removes a file or directory.<br /> * <br /> * Example: rm(\"/mnt/my-folder/\", true)<br /> * <br /> * @param dir FileSystem URI for a single file or a directory<br /> * @param recurse if true, all files and directories will be recursively deleted<br /> * @return true if the file or directory was present and is now deleted<br /> */<br /><b>rm(dir: java.lang.String, recurse: boolean = false): boolean</b></div><br />"
      ]
     },
     "metadata": {},
     "output_type": "display_data"
    }
   ],
   "source": [
    "%run \"./Application\""
   ]
  },
  {
   "cell_type": "code",
   "execution_count": 0,
   "metadata": {
    "application/vnd.databricks.v1+cell": {
     "cellMetadata": {
      "byteLimit": 2048000,
      "rowLimit": 10000
     },
     "inputWidgets": {},
     "nuid": "2bb26523-c560-4db7-aad0-38547a1e2a49",
     "showTitle": false,
     "tableResultSettingsMap": {},
     "title": ""
    }
   },
   "outputs": [
    {
     "output_type": "stream",
     "name": "stdout",
     "output_type": "stream",
     "text": [
      "Files in the directory FileInfo(path='dbfs:/FileStore/landing_zone/Computer/Offline/Computer/Computer_2024-12-23 19:37:24.299518.parquet', name='Computer_2024-12-23 19:37:24.299518.parquet', size=7420, modificationTime=1734982645000) excluded with success \nFiles in the directory dbfs:/FileStore/landing_zone/Computer/Offline/Computer/ excluded with success\nFiles in the directory FileInfo(path='dbfs:/FileStore/landing_zone/Computer/Offline/Computer/', name='Computer/', size=0, modificationTime=0) excluded with success.\nFiles in the directory dbfs:/FileStore/landing_zone/Computer/Offline/ excluded with success\nFiles in the directory FileInfo(path='dbfs:/FileStore/landing_zone/Computer/Offline/', name='Offline/', size=0, modificationTime=0) excluded with success.\nFiles in the directory dbfs:/FileStore/landing_zone/Computer/ excluded with success\nFiles in the directory FileInfo(path='dbfs:/FileStore/landing_zone/Computer/', name='Computer/', size=0, modificationTime=0) excluded with success.\nFiles in the directory FileInfo(path='dbfs:/FileStore/landing_zone/Mobile/Offline/Mobile/Mobile_2024-12-20 21:12:44.149897.parquet', name='Mobile_2024-12-20 21:12:44.149897.parquet', size=6933, modificationTime=1734729165000) excluded with success \nFiles in the directory FileInfo(path='dbfs:/FileStore/landing_zone/Mobile/Offline/Mobile/Mobile_2024-12-20 21:12:55.406746.parquet', name='Mobile_2024-12-20 21:12:55.406746.parquet', size=6645, modificationTime=1734729176000) excluded with success \nFiles in the directory FileInfo(path='dbfs:/FileStore/landing_zone/Mobile/Offline/Mobile/Mobile_2024-12-20 21:13:06.586803.parquet', name='Mobile_2024-12-20 21:13:06.586803.parquet', size=6707, modificationTime=1734729187000) excluded with success \nFiles in the directory FileInfo(path='dbfs:/FileStore/landing_zone/Mobile/Offline/Mobile/Mobile_2024-12-20 21:13:17.754128.parquet', name='Mobile_2024-12-20 21:13:17.754128.parquet', size=6824, modificationTime=1734729198000) excluded with success \nFiles in the directory FileInfo(path='dbfs:/FileStore/landing_zone/Mobile/Offline/Mobile/Mobile_2024-12-20 21:13:28.842314.parquet', name='Mobile_2024-12-20 21:13:28.842314.parquet', size=6742, modificationTime=1734729210000) excluded with success \nFiles in the directory FileInfo(path='dbfs:/FileStore/landing_zone/Mobile/Offline/Mobile/Mobile_2024-12-20 21:13:39.845155.parquet', name='Mobile_2024-12-20 21:13:39.845155.parquet', size=6709, modificationTime=1734729221000) excluded with success \nFiles in the directory FileInfo(path='dbfs:/FileStore/landing_zone/Mobile/Offline/Mobile/Mobile_2024-12-20 21:13:50.871244.parquet', name='Mobile_2024-12-20 21:13:50.871244.parquet', size=6678, modificationTime=1734729232000) excluded with success \nFiles in the directory FileInfo(path='dbfs:/FileStore/landing_zone/Mobile/Offline/Mobile/Mobile_2024-12-20 21:14:02.247094.parquet', name='Mobile_2024-12-20 21:14:02.247094.parquet', size=6928, modificationTime=1734729243000) excluded with success \nFiles in the directory FileInfo(path='dbfs:/FileStore/landing_zone/Mobile/Offline/Mobile/Mobile_2024-12-23 19:24:28.408960.parquet', name='Mobile_2024-12-23 19:24:28.408960.parquet', size=6737, modificationTime=1734981869000) excluded with success \nFiles in the directory FileInfo(path='dbfs:/FileStore/landing_zone/Mobile/Offline/Mobile/Mobile_2024-12-23 19:24:40.876896.parquet', name='Mobile_2024-12-23 19:24:40.876896.parquet', size=6760, modificationTime=1734981882000) excluded with success \nFiles in the directory FileInfo(path='dbfs:/FileStore/landing_zone/Mobile/Offline/Mobile/Mobile_2024-12-23 19:24:52.851001.parquet', name='Mobile_2024-12-23 19:24:52.851001.parquet', size=6744, modificationTime=1734981894000) excluded with success \nFiles in the directory dbfs:/FileStore/landing_zone/Mobile/Offline/Mobile/ excluded with success\nFiles in the directory FileInfo(path='dbfs:/FileStore/landing_zone/Mobile/Offline/Mobile/', name='Mobile/', size=0, modificationTime=0) excluded with success.\nFiles in the directory dbfs:/FileStore/landing_zone/Mobile/Offline/ excluded with success\nFiles in the directory FileInfo(path='dbfs:/FileStore/landing_zone/Mobile/Offline/', name='Offline/', size=0, modificationTime=0) excluded with success.\nFiles in the directory FileInfo(path='dbfs:/FileStore/landing_zone/Mobile/Online/Mobile/Mobile_2024-12-20 21:17:08.021856.parquet', name='Mobile_2024-12-20 21:17:08.021856.parquet', size=8212, modificationTime=1734729429000) excluded with success \nFiles in the directory FileInfo(path='dbfs:/FileStore/landing_zone/Mobile/Online/Mobile/Mobile_2024-12-20 21:17:19.237159.parquet', name='Mobile_2024-12-20 21:17:19.237159.parquet', size=8641, modificationTime=1734729440000) excluded with success \nFiles in the directory FileInfo(path='dbfs:/FileStore/landing_zone/Mobile/Online/Mobile/Mobile_2024-12-20 21:17:30.572254.parquet', name='Mobile_2024-12-20 21:17:30.572254.parquet', size=8149, modificationTime=1734729451000) excluded with success \nFiles in the directory FileInfo(path='dbfs:/FileStore/landing_zone/Mobile/Online/Mobile/Mobile_2024-12-20 21:17:41.749817.parquet', name='Mobile_2024-12-20 21:17:41.749817.parquet', size=8155, modificationTime=1734729462000) excluded with success \nFiles in the directory FileInfo(path='dbfs:/FileStore/landing_zone/Mobile/Online/Mobile/Mobile_2024-12-20 21:17:52.922150.parquet', name='Mobile_2024-12-20 21:17:52.922150.parquet', size=8224, modificationTime=1734729474000) excluded with success \nFiles in the directory FileInfo(path='dbfs:/FileStore/landing_zone/Mobile/Online/Mobile/Mobile_2024-12-23 19:24:37.291449.parquet', name='Mobile_2024-12-23 19:24:37.291449.parquet', size=8131, modificationTime=1734981878000) excluded with success \nFiles in the directory FileInfo(path='dbfs:/FileStore/landing_zone/Mobile/Online/Mobile/Mobile_2024-12-23 19:24:50.246890.parquet', name='Mobile_2024-12-23 19:24:50.246890.parquet', size=8040, modificationTime=1734981891000) excluded with success \nFiles in the directory dbfs:/FileStore/landing_zone/Mobile/Online/Mobile/ excluded with success\nFiles in the directory FileInfo(path='dbfs:/FileStore/landing_zone/Mobile/Online/Mobile/', name='Mobile/', size=0, modificationTime=0) excluded with success.\nFiles in the directory dbfs:/FileStore/landing_zone/Mobile/Online/ excluded with success\nFiles in the directory FileInfo(path='dbfs:/FileStore/landing_zone/Mobile/Online/', name='Online/', size=0, modificationTime=0) excluded with success.\nFiles in the directory dbfs:/FileStore/landing_zone/Mobile/ excluded with success\nFiles in the directory FileInfo(path='dbfs:/FileStore/landing_zone/Mobile/', name='Mobile/', size=0, modificationTime=0) excluded with success.\nFiles in the directory /FileStore/landing_zone/ excluded with success\n"
     ]
    }
   ],
   "source": [
    "%python\n",
    "directory_path = \"/FileStore/landing_zone/\"\n",
    "delete_directory(dbutils, directory_path)"
   ]
  },
  {
   "cell_type": "code",
   "execution_count": 0,
   "metadata": {
    "application/vnd.databricks.v1+cell": {
     "cellMetadata": {
      "byteLimit": 2048000,
      "rowLimit": 10000
     },
     "inputWidgets": {},
     "nuid": "29e9818f-be19-49b1-8f09-25a6afabe4a5",
     "showTitle": false,
     "tableResultSettingsMap": {},
     "title": ""
    }
   },
   "outputs": [
    {
     "output_type": "stream",
     "name": "stdout",
     "output_type": "stream",
     "text": [
      "Files in the directory FileInfo(path='dbfs:/FileStore/bronze/Computer/Offline/Computer/_delta_log/.s3-optimization-0', name='.s3-optimization-0', size=0, modificationTime=1734727387000) excluded with success \nFiles in the directory FileInfo(path='dbfs:/FileStore/bronze/Computer/Offline/Computer/_delta_log/.s3-optimization-1', name='.s3-optimization-1', size=0, modificationTime=1734727387000) excluded with success \nFiles in the directory FileInfo(path='dbfs:/FileStore/bronze/Computer/Offline/Computer/_delta_log/.s3-optimization-2', name='.s3-optimization-2', size=0, modificationTime=1734727387000) excluded with success \nFiles in the directory FileInfo(path='dbfs:/FileStore/bronze/Computer/Offline/Computer/_delta_log/00000000000000000000.crc', name='00000000000000000000.crc', size=2796, modificationTime=1734727391000) excluded with success \nFiles in the directory FileInfo(path='dbfs:/FileStore/bronze/Computer/Offline/Computer/_delta_log/00000000000000000000.json', name='00000000000000000000.json', size=1803, modificationTime=1734727387000) excluded with success \nFiles in the directory FileInfo(path='dbfs:/FileStore/bronze/Computer/Offline/Computer/_delta_log/00000000000000000001.crc', name='00000000000000000001.crc', size=12468, modificationTime=1734727405000) excluded with success \nFiles in the directory FileInfo(path='dbfs:/FileStore/bronze/Computer/Offline/Computer/_delta_log/00000000000000000001.json', name='00000000000000000001.json', size=10390, modificationTime=1734727401000) excluded with success \nFiles in the directory FileInfo(path='dbfs:/FileStore/bronze/Computer/Offline/Computer/_delta_log/00000000000000000002.crc', name='00000000000000000002.crc', size=13837, modificationTime=1734727410000) excluded with success \nFiles in the directory FileInfo(path='dbfs:/FileStore/bronze/Computer/Offline/Computer/_delta_log/00000000000000000002.json', name='00000000000000000002.json', size=2136, modificationTime=1734727409000) excluded with success \nFiles in the directory FileInfo(path='dbfs:/FileStore/bronze/Computer/Offline/Computer/_delta_log/00000000000000000003.crc', name='00000000000000000003.crc', size=15204, modificationTime=1734727415000) excluded with success \nFiles in the directory FileInfo(path='dbfs:/FileStore/bronze/Computer/Offline/Computer/_delta_log/00000000000000000003.json', name='00000000000000000003.json', size=2136, modificationTime=1734727414000) excluded with success \nFiles in the directory FileInfo(path='dbfs:/FileStore/bronze/Computer/Offline/Computer/_delta_log/00000000000000000004.crc', name='00000000000000000004.crc', size=16569, modificationTime=1734727427000) excluded with success \nFiles in the directory FileInfo(path='dbfs:/FileStore/bronze/Computer/Offline/Computer/_delta_log/00000000000000000004.json', name='00000000000000000004.json', size=2132, modificationTime=1734727424000) excluded with success \nFiles in the directory FileInfo(path='dbfs:/FileStore/bronze/Computer/Offline/Computer/_delta_log/00000000000000000005.crc', name='00000000000000000005.crc', size=17941, modificationTime=1734727437000) excluded with success \nFiles in the directory FileInfo(path='dbfs:/FileStore/bronze/Computer/Offline/Computer/_delta_log/00000000000000000005.json', name='00000000000000000005.json', size=2141, modificationTime=1734727436000) excluded with success \nFiles in the directory FileInfo(path='dbfs:/FileStore/bronze/Computer/Offline/Computer/_delta_log/00000000000000000006.crc', name='00000000000000000006.crc', size=19308, modificationTime=1734727450000) excluded with success \nFiles in the directory FileInfo(path='dbfs:/FileStore/bronze/Computer/Offline/Computer/_delta_log/00000000000000000006.json', name='00000000000000000006.json', size=2136, modificationTime=1734727448000) excluded with success \nFiles in the directory FileInfo(path='dbfs:/FileStore/bronze/Computer/Offline/Computer/_delta_log/00000000000000000007.crc', name='00000000000000000007.crc', size=20664, modificationTime=1734727459000) excluded with success \nFiles in the directory FileInfo(path='dbfs:/FileStore/bronze/Computer/Offline/Computer/_delta_log/00000000000000000007.json', name='00000000000000000007.json', size=2125, modificationTime=1734727458000) excluded with success \nFiles in the directory FileInfo(path='dbfs:/FileStore/bronze/Computer/Offline/Computer/_delta_log/00000000000000000008.crc', name='00000000000000000008.crc', size=22027, modificationTime=1734727472000) excluded with success \nFiles in the directory FileInfo(path='dbfs:/FileStore/bronze/Computer/Offline/Computer/_delta_log/00000000000000000008.json', name='00000000000000000008.json', size=2132, modificationTime=1734727470000) excluded with success \nFiles in the directory FileInfo(path='dbfs:/FileStore/bronze/Computer/Offline/Computer/_delta_log/00000000000000000009.crc', name='00000000000000000009.crc', size=23398, modificationTime=1734727847000) excluded with success \nFiles in the directory FileInfo(path='dbfs:/FileStore/bronze/Computer/Offline/Computer/_delta_log/00000000000000000009.json', name='00000000000000000009.json', size=2140, modificationTime=1734727844000) excluded with success \nFiles in the directory FileInfo(path='dbfs:/FileStore/bronze/Computer/Offline/Computer/_delta_log/00000000000000000010.crc', name='00000000000000000010.crc', size=24761, modificationTime=1734727854000) excluded with success \nFiles in the directory FileInfo(path='dbfs:/FileStore/bronze/Computer/Offline/Computer/_delta_log/00000000000000000010.json', name='00000000000000000010.json', size=2132, modificationTime=1734727852000) excluded with success \nFiles in the directory FileInfo(path='dbfs:/FileStore/bronze/Computer/Offline/Computer/_delta_log/00000000000000000011.crc', name='00000000000000000011.crc', size=26130, modificationTime=1734727865000) excluded with success \nFiles in the directory FileInfo(path='dbfs:/FileStore/bronze/Computer/Offline/Computer/_delta_log/00000000000000000011.json', name='00000000000000000011.json', size=2140, modificationTime=1734727864000) excluded with success \nFiles in the directory FileInfo(path='dbfs:/FileStore/bronze/Computer/Offline/Computer/_delta_log/00000000000000000012.crc', name='00000000000000000012.crc', size=27497, modificationTime=1734727876000) excluded with success \nFiles in the directory FileInfo(path='dbfs:/FileStore/bronze/Computer/Offline/Computer/_delta_log/00000000000000000012.json', name='00000000000000000012.json', size=2139, modificationTime=1734727874000) excluded with success \nFiles in the directory FileInfo(path='dbfs:/FileStore/bronze/Computer/Offline/Computer/_delta_log/00000000000000000013.crc', name='00000000000000000013.crc', size=28862, modificationTime=1734727887000) excluded with success \nFiles in the directory FileInfo(path='dbfs:/FileStore/bronze/Computer/Offline/Computer/_delta_log/00000000000000000013.json', name='00000000000000000013.json', size=2137, modificationTime=1734727886000) excluded with success \nFiles in the directory FileInfo(path='dbfs:/FileStore/bronze/Computer/Offline/Computer/_delta_log/00000000000000000014.crc', name='00000000000000000014.crc', size=30228, modificationTime=1734727898000) excluded with success \nFiles in the directory FileInfo(path='dbfs:/FileStore/bronze/Computer/Offline/Computer/_delta_log/00000000000000000014.json', name='00000000000000000014.json', size=2138, modificationTime=1734727896000) excluded with success \nFiles in the directory FileInfo(path='dbfs:/FileStore/bronze/Computer/Offline/Computer/_delta_log/00000000000000000015.crc', name='00000000000000000015.crc', size=31598, modificationTime=1734727909000) excluded with success \nFiles in the directory FileInfo(path='dbfs:/FileStore/bronze/Computer/Offline/Computer/_delta_log/00000000000000000015.json', name='00000000000000000015.json', size=2142, modificationTime=1734727908000) excluded with success \nFiles in the directory FileInfo(path='dbfs:/FileStore/bronze/Computer/Offline/Computer/_delta_log/00000000000000000016.crc', name='00000000000000000016.crc', size=32968, modificationTime=1734727920000) excluded with success \nFiles in the directory FileInfo(path='dbfs:/FileStore/bronze/Computer/Offline/Computer/_delta_log/00000000000000000016.json', name='00000000000000000016.json', size=2142, modificationTime=1734727918000) excluded with success \nFiles in the directory FileInfo(path='dbfs:/FileStore/bronze/Computer/Offline/Computer/_delta_log/00000000000000000017.crc', name='00000000000000000017.crc', size=34330, modificationTime=1734727931000) excluded with success \nFiles in the directory FileInfo(path='dbfs:/FileStore/bronze/Computer/Offline/Computer/_delta_log/00000000000000000017.json', name='00000000000000000017.json', size=2134, modificationTime=1734727930000) excluded with success \nFiles in the directory FileInfo(path='dbfs:/FileStore/bronze/Computer/Offline/Computer/_delta_log/00000000000000000018.crc', name='00000000000000000018.crc', size=35706, modificationTime=1734727944000) excluded with success \nFiles in the directory FileInfo(path='dbfs:/FileStore/bronze/Computer/Offline/Computer/_delta_log/00000000000000000018.json', name='00000000000000000018.json', size=2148, modificationTime=1734727942000) excluded with success \nFiles in the directory dbfs:/FileStore/bronze/Computer/Offline/Computer/_delta_log/ excluded with success\nFiles in the directory FileInfo(path='dbfs:/FileStore/bronze/Computer/Offline/Computer/_delta_log/', name='_delta_log/', size=0, modificationTime=0) excluded with success.\nFiles in the directory FileInfo(path='dbfs:/FileStore/bronze/Computer/Offline/Computer/part-00000-07bb7827-98c2-4a19-a373-a6cf77e86ed8-c000.snappy.parquet', name='part-00000-07bb7827-98c2-4a19-a373-a6cf77e86ed8-c000.snappy.parquet', size=14383, modificationTime=1734727400000) excluded with success \nFiles in the directory FileInfo(path='dbfs:/FileStore/bronze/Computer/Offline/Computer/part-00000-18a948a6-0580-497a-b7fc-02c542835180-c000.snappy.parquet', name='part-00000-18a948a6-0580-497a-b7fc-02c542835180-c000.snappy.parquet', size=9488, modificationTime=1734727458000) excluded with success \nFiles in the directory FileInfo(path='dbfs:/FileStore/bronze/Computer/Offline/Computer/part-00000-2ef9be7f-666e-4162-92a6-fe83e1dea2df-c000.snappy.parquet', name='part-00000-2ef9be7f-666e-4162-92a6-fe83e1dea2df-c000.snappy.parquet', size=9466, modificationTime=1734727470000) excluded with success \nFiles in the directory FileInfo(path='dbfs:/FileStore/bronze/Computer/Offline/Computer/part-00000-3535b2ef-6b58-461c-97f3-9e1863221bea-c000.snappy.parquet', name='part-00000-3535b2ef-6b58-461c-97f3-9e1863221bea-c000.snappy.parquet', size=9503, modificationTime=1734727917000) excluded with success \nFiles in the directory FileInfo(path='dbfs:/FileStore/bronze/Computer/Offline/Computer/part-00000-41d2e9ce-c26a-4150-a4b0-914e7ae034b7-c000.snappy.parquet', name='part-00000-41d2e9ce-c26a-4150-a4b0-914e7ae034b7-c000.snappy.parquet', size=9581, modificationTime=1734727844000) excluded with success \nFiles in the directory FileInfo(path='dbfs:/FileStore/bronze/Computer/Offline/Computer/part-00000-564e7034-94dc-49de-9c6f-5df03033bb22-c000.snappy.parquet', name='part-00000-564e7034-94dc-49de-9c6f-5df03033bb22-c000.snappy.parquet', size=9582, modificationTime=1734727907000) excluded with success \nFiles in the directory FileInfo(path='dbfs:/FileStore/bronze/Computer/Offline/Computer/part-00000-7a665078-ae91-4f2f-b344-c4993ae63125-c000.snappy.parquet', name='part-00000-7a665078-ae91-4f2f-b344-c4993ae63125-c000.snappy.parquet', size=9817, modificationTime=1734727447000) excluded with success \nFiles in the directory FileInfo(path='dbfs:/FileStore/bronze/Computer/Offline/Computer/part-00000-82e6c542-cb72-4633-b8a0-8fdbab4f7e97-c000.snappy.parquet', name='part-00000-82e6c542-cb72-4633-b8a0-8fdbab4f7e97-c000.snappy.parquet', size=9369, modificationTime=1734727436000) excluded with success \nFiles in the directory FileInfo(path='dbfs:/FileStore/bronze/Computer/Offline/Computer/part-00000-8cbf0284-cd24-49b1-a1b3-471d2e201f6e-c000.snappy.parquet', name='part-00000-8cbf0284-cd24-49b1-a1b3-471d2e201f6e-c000.snappy.parquet', size=9456, modificationTime=1734727851000) excluded with success \nFiles in the directory FileInfo(path='dbfs:/FileStore/bronze/Computer/Offline/Computer/part-00000-97fc8325-be0e-408a-aba8-d50a5a3dd050-c000.snappy.parquet', name='part-00000-97fc8325-be0e-408a-aba8-d50a5a3dd050-c000.snappy.parquet', size=9515, modificationTime=1734727896000) excluded with success \nFiles in the directory FileInfo(path='dbfs:/FileStore/bronze/Computer/Offline/Computer/part-00000-b05c44de-95c4-41ad-88ac-e7648bdeecb3-c000.snappy.parquet', name='part-00000-b05c44de-95c4-41ad-88ac-e7648bdeecb3-c000.snappy.parquet', size=9530, modificationTime=1734727414000) excluded with success \nFiles in the directory FileInfo(path='dbfs:/FileStore/bronze/Computer/Offline/Computer/part-00000-b53023fc-c9c0-4b00-be1d-d21e968528a1-c000.snappy.parquet', name='part-00000-b53023fc-c9c0-4b00-be1d-d21e968528a1-c000.snappy.parquet', size=9443, modificationTime=1734727424000) excluded with success \nFiles in the directory FileInfo(path='dbfs:/FileStore/bronze/Computer/Offline/Computer/part-00000-c7cad0db-6b6b-40d1-aaa4-72d79d5d6d65-c000.snappy.parquet', name='part-00000-c7cad0db-6b6b-40d1-aaa4-72d79d5d6d65-c000.snappy.parquet', size=9559, modificationTime=1734727408000) excluded with success \nFiles in the directory FileInfo(path='dbfs:/FileStore/bronze/Computer/Offline/Computer/part-00000-c82da0b8-0da0-4739-b5d0-1d3f07633157-c000.snappy.parquet', name='part-00000-c82da0b8-0da0-4739-b5d0-1d3f07633157-c000.snappy.parquet', size=9504, modificationTime=1734727886000) excluded with success \nFiles in the directory FileInfo(path='dbfs:/FileStore/bronze/Computer/Offline/Computer/part-00000-da206b6a-ed7b-4d2e-be3f-0ed5b069b5f4-c000.snappy.parquet', name='part-00000-da206b6a-ed7b-4d2e-be3f-0ed5b069b5f4-c000.snappy.parquet', size=9496, modificationTime=1734727873000) excluded with success \nFiles in the directory FileInfo(path='dbfs:/FileStore/bronze/Computer/Offline/Computer/part-00000-e89e181e-dd9b-46d0-a643-b0ab9df37f2f-c000.snappy.parquet', name='part-00000-e89e181e-dd9b-46d0-a643-b0ab9df37f2f-c000.snappy.parquet', size=9590, modificationTime=1734727929000) excluded with success \nFiles in the directory FileInfo(path='dbfs:/FileStore/bronze/Computer/Offline/Computer/part-00000-f0cf67bc-2efc-4e3d-bd77-82612d86e983-c000.snappy.parquet', name='part-00000-f0cf67bc-2efc-4e3d-bd77-82612d86e983-c000.snappy.parquet', size=9563, modificationTime=1734727941000) excluded with success \nFiles in the directory FileInfo(path='dbfs:/FileStore/bronze/Computer/Offline/Computer/part-00000-f653cc6c-f38e-4553-8440-830cacbf8cc1-c000.snappy.parquet', name='part-00000-f653cc6c-f38e-4553-8440-830cacbf8cc1-c000.snappy.parquet', size=9426, modificationTime=1734727863000) excluded with success \nFiles in the directory FileInfo(path='dbfs:/FileStore/bronze/Computer/Offline/Computer/part-00001-2006bcba-9116-4a02-b0b0-1e64f7bff0bf-c000.snappy.parquet', name='part-00001-2006bcba-9116-4a02-b0b0-1e64f7bff0bf-c000.snappy.parquet', size=13991, modificationTime=1734727400000) excluded with success \nFiles in the directory FileInfo(path='dbfs:/FileStore/bronze/Computer/Offline/Computer/part-00002-328a473d-7023-42a7-9d39-de36f34b42d0-c000.snappy.parquet', name='part-00002-328a473d-7023-42a7-9d39-de36f34b42d0-c000.snappy.parquet', size=13916, modificationTime=1734727400000) excluded with success \nFiles in the directory FileInfo(path='dbfs:/FileStore/bronze/Computer/Offline/Computer/part-00003-53b0c364-e7f0-4e80-80bc-1570f1af6b4b-c000.snappy.parquet', name='part-00003-53b0c364-e7f0-4e80-80bc-1570f1af6b4b-c000.snappy.parquet', size=13834, modificationTime=1734727400000) excluded with success \nFiles in the directory FileInfo(path='dbfs:/FileStore/bronze/Computer/Offline/Computer/part-00004-c8e77ed5-1d06-4bc2-ae7f-d50c825ca98a-c000.snappy.parquet', name='part-00004-c8e77ed5-1d06-4bc2-ae7f-d50c825ca98a-c000.snappy.parquet', size=13781, modificationTime=1734727400000) excluded with success \nFiles in the directory FileInfo(path='dbfs:/FileStore/bronze/Computer/Offline/Computer/part-00005-4d2c7499-7b66-493e-b979-70d4a0894f0a-c000.snappy.parquet', name='part-00005-4d2c7499-7b66-493e-b979-70d4a0894f0a-c000.snappy.parquet', size=13785, modificationTime=1734727400000) excluded with success \nFiles in the directory FileInfo(path='dbfs:/FileStore/bronze/Computer/Offline/Computer/part-00006-b9abd516-9f37-4600-ae51-612aeef110aa-c000.snappy.parquet', name='part-00006-b9abd516-9f37-4600-ae51-612aeef110aa-c000.snappy.parquet', size=13603, modificationTime=1734727400000) excluded with success \nFiles in the directory dbfs:/FileStore/bronze/Computer/Offline/Computer/ excluded with success\nFiles in the directory FileInfo(path='dbfs:/FileStore/bronze/Computer/Offline/Computer/', name='Computer/', size=0, modificationTime=0) excluded with success.\nFiles in the directory FileInfo(path='dbfs:/FileStore/bronze/Computer/Offline/Computer_ckpt/commits/0', name='0', size=29, modificationTime=1734727405000) excluded with success \nFiles in the directory FileInfo(path='dbfs:/FileStore/bronze/Computer/Offline/Computer_ckpt/commits/1', name='1', size=29, modificationTime=1734727411000) excluded with success \nFiles in the directory FileInfo(path='dbfs:/FileStore/bronze/Computer/Offline/Computer_ckpt/commits/10', name='10', size=29, modificationTime=1734727865000) excluded with success \nFiles in the directory FileInfo(path='dbfs:/FileStore/bronze/Computer/Offline/Computer_ckpt/commits/11', name='11', size=29, modificationTime=1734727876000) excluded with success \nFiles in the directory FileInfo(path='dbfs:/FileStore/bronze/Computer/Offline/Computer_ckpt/commits/12', name='12', size=29, modificationTime=1734727887000) excluded with success \nFiles in the directory FileInfo(path='dbfs:/FileStore/bronze/Computer/Offline/Computer_ckpt/commits/13', name='13', size=29, modificationTime=1734727898000) excluded with success \nFiles in the directory FileInfo(path='dbfs:/FileStore/bronze/Computer/Offline/Computer_ckpt/commits/14', name='14', size=29, modificationTime=1734727909000) excluded with success \nFiles in the directory FileInfo(path='dbfs:/FileStore/bronze/Computer/Offline/Computer_ckpt/commits/15', name='15', size=29, modificationTime=1734727920000) excluded with success \nFiles in the directory FileInfo(path='dbfs:/FileStore/bronze/Computer/Offline/Computer_ckpt/commits/16', name='16', size=29, modificationTime=1734727932000) excluded with success \nFiles in the directory FileInfo(path='dbfs:/FileStore/bronze/Computer/Offline/Computer_ckpt/commits/17', name='17', size=29, modificationTime=1734727944000) excluded with success \nFiles in the directory FileInfo(path='dbfs:/FileStore/bronze/Computer/Offline/Computer_ckpt/commits/2', name='2', size=29, modificationTime=1734727415000) excluded with success \nFiles in the directory FileInfo(path='dbfs:/FileStore/bronze/Computer/Offline/Computer_ckpt/commits/3', name='3', size=29, modificationTime=1734727427000) excluded with success \nFiles in the directory FileInfo(path='dbfs:/FileStore/bronze/Computer/Offline/Computer_ckpt/commits/4', name='4', size=29, modificationTime=1734727437000) excluded with success \nFiles in the directory FileInfo(path='dbfs:/FileStore/bronze/Computer/Offline/Computer_ckpt/commits/5', name='5', size=29, modificationTime=1734727450000) excluded with success \nFiles in the directory FileInfo(path='dbfs:/FileStore/bronze/Computer/Offline/Computer_ckpt/commits/6', name='6', size=29, modificationTime=1734727459000) excluded with success \nFiles in the directory FileInfo(path='dbfs:/FileStore/bronze/Computer/Offline/Computer_ckpt/commits/7', name='7', size=29, modificationTime=1734727472000) excluded with success \nFiles in the directory FileInfo(path='dbfs:/FileStore/bronze/Computer/Offline/Computer_ckpt/commits/8', name='8', size=29, modificationTime=1734727847000) excluded with success \nFiles in the directory FileInfo(path='dbfs:/FileStore/bronze/Computer/Offline/Computer_ckpt/commits/9', name='9', size=29, modificationTime=1734727854000) excluded with success \nFiles in the directory dbfs:/FileStore/bronze/Computer/Offline/Computer_ckpt/commits/ excluded with success\nFiles in the directory FileInfo(path='dbfs:/FileStore/bronze/Computer/Offline/Computer_ckpt/commits/', name='commits/', size=0, modificationTime=0) excluded with success.\nFiles in the directory FileInfo(path='dbfs:/FileStore/bronze/Computer/Offline/Computer_ckpt/metadata', name='metadata', size=45, modificationTime=1734727392000) excluded with success \nFiles in the directory FileInfo(path='dbfs:/FileStore/bronze/Computer/Offline/Computer_ckpt/offsets/0', name='0', size=885, modificationTime=1734727396000) excluded with success \nFiles in the directory FileInfo(path='dbfs:/FileStore/bronze/Computer/Offline/Computer_ckpt/offsets/1', name='1', size=885, modificationTime=1734727407000) excluded with success \nFiles in the directory FileInfo(path='dbfs:/FileStore/bronze/Computer/Offline/Computer_ckpt/offsets/10', name='10', size=885, modificationTime=1734727863000) excluded with success \nFiles in the directory FileInfo(path='dbfs:/FileStore/bronze/Computer/Offline/Computer_ckpt/offsets/11', name='11', size=885, modificationTime=1734727873000) excluded with success \nFiles in the directory FileInfo(path='dbfs:/FileStore/bronze/Computer/Offline/Computer_ckpt/offsets/12', name='12', size=885, modificationTime=1734727885000) excluded with success \nFiles in the directory FileInfo(path='dbfs:/FileStore/bronze/Computer/Offline/Computer_ckpt/offsets/13', name='13', size=885, modificationTime=1734727895000) excluded with success \nFiles in the directory FileInfo(path='dbfs:/FileStore/bronze/Computer/Offline/Computer_ckpt/offsets/14', name='14', size=885, modificationTime=1734727907000) excluded with success \nFiles in the directory FileInfo(path='dbfs:/FileStore/bronze/Computer/Offline/Computer_ckpt/offsets/15', name='15', size=885, modificationTime=1734727917000) excluded with success \nFiles in the directory FileInfo(path='dbfs:/FileStore/bronze/Computer/Offline/Computer_ckpt/offsets/16', name='16', size=885, modificationTime=1734727929000) excluded with success \nFiles in the directory FileInfo(path='dbfs:/FileStore/bronze/Computer/Offline/Computer_ckpt/offsets/17', name='17', size=885, modificationTime=1734727941000) excluded with success \nFiles in the directory FileInfo(path='dbfs:/FileStore/bronze/Computer/Offline/Computer_ckpt/offsets/2', name='2', size=885, modificationTime=1734727413000) excluded with success \nFiles in the directory FileInfo(path='dbfs:/FileStore/bronze/Computer/Offline/Computer_ckpt/offsets/3', name='3', size=885, modificationTime=1734727423000) excluded with success \nFiles in the directory FileInfo(path='dbfs:/FileStore/bronze/Computer/Offline/Computer_ckpt/offsets/4', name='4', size=885, modificationTime=1734727435000) excluded with success \nFiles in the directory FileInfo(path='dbfs:/FileStore/bronze/Computer/Offline/Computer_ckpt/offsets/5', name='5', size=885, modificationTime=1734727447000) excluded with success \nFiles in the directory FileInfo(path='dbfs:/FileStore/bronze/Computer/Offline/Computer_ckpt/offsets/6', name='6', size=885, modificationTime=1734727457000) excluded with success \nFiles in the directory FileInfo(path='dbfs:/FileStore/bronze/Computer/Offline/Computer_ckpt/offsets/7', name='7', size=885, modificationTime=1734727469000) excluded with success \nFiles in the directory FileInfo(path='dbfs:/FileStore/bronze/Computer/Offline/Computer_ckpt/offsets/8', name='8', size=885, modificationTime=1734727843000) excluded with success \nFiles in the directory FileInfo(path='dbfs:/FileStore/bronze/Computer/Offline/Computer_ckpt/offsets/9', name='9', size=885, modificationTime=1734727851000) excluded with success \nFiles in the directory dbfs:/FileStore/bronze/Computer/Offline/Computer_ckpt/offsets/ excluded with success\nFiles in the directory FileInfo(path='dbfs:/FileStore/bronze/Computer/Offline/Computer_ckpt/offsets/', name='offsets/', size=0, modificationTime=0) excluded with success.\nFiles in the directory FileInfo(path='dbfs:/FileStore/bronze/Computer/Offline/Computer_ckpt/sources/0/metadata', name='metadata', size=133, modificationTime=1734727393000) excluded with success \nFiles in the directory FileInfo(path='dbfs:/FileStore/bronze/Computer/Offline/Computer_ckpt/sources/0/rocksdb/0.zip', name='0.zip', size=160, modificationTime=1734727393000) excluded with success \nFiles in the directory FileInfo(path='dbfs:/FileStore/bronze/Computer/Offline/Computer_ckpt/sources/0/rocksdb/1.zip', name='1.zip', size=3581, modificationTime=1734727395000) excluded with success \nFiles in the directory FileInfo(path='dbfs:/FileStore/bronze/Computer/Offline/Computer_ckpt/sources/0/rocksdb/10.zip', name='10.zip', size=4084, modificationTime=1734727851000) excluded with success \nFiles in the directory FileInfo(path='dbfs:/FileStore/bronze/Computer/Offline/Computer_ckpt/sources\n\n*** WARNING: max output size exceeded, skipping output. ***\n\nInfo(path='dbfs:/FileStore/bronze/Mobile/Offline/Mobile_ckpt/sources/0/rocksdb/1.zip', name='1.zip', size=3579, modificationTime=1734729195000) excluded with success \nFiles in the directory FileInfo(path='dbfs:/FileStore/bronze/Mobile/Offline/Mobile_ckpt/sources/0/rocksdb/2.zip', name='2.zip', size=3721, modificationTime=1734729201000) excluded with success \nFiles in the directory FileInfo(path='dbfs:/FileStore/bronze/Mobile/Offline/Mobile_ckpt/sources/0/rocksdb/3.zip', name='3.zip', size=3830, modificationTime=1734729213000) excluded with success \nFiles in the directory FileInfo(path='dbfs:/FileStore/bronze/Mobile/Offline/Mobile_ckpt/sources/0/rocksdb/4.zip', name='4.zip', size=3859, modificationTime=1734729223000) excluded with success \nFiles in the directory FileInfo(path='dbfs:/FileStore/bronze/Mobile/Offline/Mobile_ckpt/sources/0/rocksdb/5.zip', name='5.zip', size=3831, modificationTime=1734729239000) excluded with success \nFiles in the directory FileInfo(path='dbfs:/FileStore/bronze/Mobile/Offline/Mobile_ckpt/sources/0/rocksdb/6.zip', name='6.zip', size=3944, modificationTime=1734729247000) excluded with success \nFiles in the directory FileInfo(path='dbfs:/FileStore/bronze/Mobile/Offline/Mobile_ckpt/sources/0/rocksdb/7.zip', name='7.zip', size=4084, modificationTime=1734981999000) excluded with success \nFiles in the directory FileInfo(path='dbfs:/FileStore/bronze/Mobile/Offline/Mobile_ckpt/sources/0/rocksdb/SSTs/000009-ecdbd43e-bff0-4fbd-aa8c-7851996e6792.sst', name='000009-ecdbd43e-bff0-4fbd-aa8c-7851996e6792.sst', size=1484, modificationTime=1734729195000) excluded with success \nFiles in the directory FileInfo(path='dbfs:/FileStore/bronze/Mobile/Offline/Mobile_ckpt/sources/0/rocksdb/SSTs/000012-dbb29d51-e1d3-4cd5-808d-3925e7aa4744.sst', name='000012-dbb29d51-e1d3-4cd5-808d-3925e7aa4744.sst', size=1394, modificationTime=1734729201000) excluded with success \nFiles in the directory FileInfo(path='dbfs:/FileStore/bronze/Mobile/Offline/Mobile_ckpt/sources/0/rocksdb/SSTs/000015-d9d277f3-c0e6-4140-af66-e95eacaaccc0.sst', name='000015-d9d277f3-c0e6-4140-af66-e95eacaaccc0.sst', size=1394, modificationTime=1734729213000) excluded with success \nFiles in the directory FileInfo(path='dbfs:/FileStore/bronze/Mobile/Offline/Mobile_ckpt/sources/0/rocksdb/SSTs/000020-4661e9bf-80bc-4497-8454-8ead3b4bbb06.sst', name='000020-4661e9bf-80bc-4497-8454-8ead3b4bbb06.sst', size=1570, modificationTime=1734729223000) excluded with success \nFiles in the directory FileInfo(path='dbfs:/FileStore/bronze/Mobile/Offline/Mobile_ckpt/sources/0/rocksdb/SSTs/000029-0128d4f3-47dc-4093-bb60-8fca260e56e7.sst', name='000029-0128d4f3-47dc-4093-bb60-8fca260e56e7.sst', size=1395, modificationTime=1734729239000) excluded with success \nFiles in the directory FileInfo(path='dbfs:/FileStore/bronze/Mobile/Offline/Mobile_ckpt/sources/0/rocksdb/SSTs/000032-f858704c-34c4-4922-982e-973bff1fe84d.sst', name='000032-f858704c-34c4-4922-982e-973bff1fe84d.sst', size=1395, modificationTime=1734729247000) excluded with success \nFiles in the directory FileInfo(path='dbfs:/FileStore/bronze/Mobile/Offline/Mobile_ckpt/sources/0/rocksdb/SSTs/000041-31d30a5f-af71-415d-9569-78c6bb8e8145.sst', name='000041-31d30a5f-af71-415d-9569-78c6bb8e8145.sst', size=1478, modificationTime=1734981999000) excluded with success \nFiles in the directory dbfs:/FileStore/bronze/Mobile/Offline/Mobile_ckpt/sources/0/rocksdb/SSTs/ excluded with success\nFiles in the directory FileInfo(path='dbfs:/FileStore/bronze/Mobile/Offline/Mobile_ckpt/sources/0/rocksdb/SSTs/', name='SSTs/', size=0, modificationTime=0) excluded with success.\nFiles in the directory FileInfo(path='dbfs:/FileStore/bronze/Mobile/Offline/Mobile_ckpt/sources/0/rocksdb/logs/000004-ba1e2e3c-c3f8-4a44-b26d-5272b272158c.log', name='000004-ba1e2e3c-c3f8-4a44-b26d-5272b272158c.log', size=1125, modificationTime=1734729195000) excluded with success \nFiles in the directory FileInfo(path='dbfs:/FileStore/bronze/Mobile/Offline/Mobile_ckpt/sources/0/rocksdb/logs/000008-27040206-df51-48d9-b0aa-32f5a2efd878.log', name='000008-27040206-df51-48d9-b0aa-32f5a2efd878.log', size=539, modificationTime=1734729201000) excluded with success \nFiles in the directory FileInfo(path='dbfs:/FileStore/bronze/Mobile/Offline/Mobile_ckpt/sources/0/rocksdb/logs/000011-d8e80bb0-f0ea-48b3-88d0-6748b54c16e1.log', name='000011-d8e80bb0-f0ea-48b3-88d0-6748b54c16e1.log', size=539, modificationTime=1734729213000) excluded with success \nFiles in the directory FileInfo(path='dbfs:/FileStore/bronze/Mobile/Offline/Mobile_ckpt/sources/0/rocksdb/logs/000014-6e7fb008-2a2f-456c-bef6-efa6d9ef6c30.log', name='000014-6e7fb008-2a2f-456c-bef6-efa6d9ef6c30.log', size=539, modificationTime=1734729223000) excluded with success \nFiles in the directory FileInfo(path='dbfs:/FileStore/bronze/Mobile/Offline/Mobile_ckpt/sources/0/rocksdb/logs/000024-14dd5354-cd84-4d83-87f4-66454334f0a0.log', name='000024-14dd5354-cd84-4d83-87f4-66454334f0a0.log', size=539, modificationTime=1734729239000) excluded with success \nFiles in the directory FileInfo(path='dbfs:/FileStore/bronze/Mobile/Offline/Mobile_ckpt/sources/0/rocksdb/logs/000028-3549f283-e0fe-43d8-b723-cf37330d316d.log', name='000028-3549f283-e0fe-43d8-b723-cf37330d316d.log', size=539, modificationTime=1734729247000) excluded with success \nFiles in the directory FileInfo(path='dbfs:/FileStore/bronze/Mobile/Offline/Mobile_ckpt/sources/0/rocksdb/logs/000036-ded04d0c-ed79-4ac0-a4a0-ac867f9812b1.log', name='000036-ded04d0c-ed79-4ac0-a4a0-ac867f9812b1.log', size=1125, modificationTime=1734981999000) excluded with success \nFiles in the directory dbfs:/FileStore/bronze/Mobile/Offline/Mobile_ckpt/sources/0/rocksdb/logs/ excluded with success\nFiles in the directory FileInfo(path='dbfs:/FileStore/bronze/Mobile/Offline/Mobile_ckpt/sources/0/rocksdb/logs/', name='logs/', size=0, modificationTime=0) excluded with success.\nFiles in the directory dbfs:/FileStore/bronze/Mobile/Offline/Mobile_ckpt/sources/0/rocksdb/ excluded with success\nFiles in the directory FileInfo(path='dbfs:/FileStore/bronze/Mobile/Offline/Mobile_ckpt/sources/0/rocksdb/', name='rocksdb/', size=0, modificationTime=0) excluded with success.\nFiles in the directory dbfs:/FileStore/bronze/Mobile/Offline/Mobile_ckpt/sources/0/ excluded with success\nFiles in the directory FileInfo(path='dbfs:/FileStore/bronze/Mobile/Offline/Mobile_ckpt/sources/0/', name='0/', size=0, modificationTime=0) excluded with success.\nFiles in the directory dbfs:/FileStore/bronze/Mobile/Offline/Mobile_ckpt/sources/ excluded with success\nFiles in the directory FileInfo(path='dbfs:/FileStore/bronze/Mobile/Offline/Mobile_ckpt/sources/', name='sources/', size=0, modificationTime=0) excluded with success.\nFiles in the directory dbfs:/FileStore/bronze/Mobile/Offline/Mobile_ckpt/ excluded with success\nFiles in the directory FileInfo(path='dbfs:/FileStore/bronze/Mobile/Offline/Mobile_ckpt/', name='Mobile_ckpt/', size=0, modificationTime=0) excluded with success.\nFiles in the directory FileInfo(path='dbfs:/FileStore/bronze/Mobile/Offline/Mobile_schema/_schemas/0', name='0', size=676, modificationTime=1734729186000) excluded with success \nFiles in the directory dbfs:/FileStore/bronze/Mobile/Offline/Mobile_schema/_schemas/ excluded with success\nFiles in the directory FileInfo(path='dbfs:/FileStore/bronze/Mobile/Offline/Mobile_schema/_schemas/', name='_schemas/', size=0, modificationTime=0) excluded with success.\nFiles in the directory dbfs:/FileStore/bronze/Mobile/Offline/Mobile_schema/ excluded with success\nFiles in the directory FileInfo(path='dbfs:/FileStore/bronze/Mobile/Offline/Mobile_schema/', name='Mobile_schema/', size=0, modificationTime=0) excluded with success.\nFiles in the directory dbfs:/FileStore/bronze/Mobile/Offline/ excluded with success\nFiles in the directory FileInfo(path='dbfs:/FileStore/bronze/Mobile/Offline/', name='Offline/', size=0, modificationTime=0) excluded with success.\nFiles in the directory FileInfo(path='dbfs:/FileStore/bronze/Mobile/Online/Mobile/_delta_log/.s3-optimization-0', name='.s3-optimization-0', size=0, modificationTime=1734729437000) excluded with success \nFiles in the directory FileInfo(path='dbfs:/FileStore/bronze/Mobile/Online/Mobile/_delta_log/.s3-optimization-1', name='.s3-optimization-1', size=0, modificationTime=1734729437000) excluded with success \nFiles in the directory FileInfo(path='dbfs:/FileStore/bronze/Mobile/Online/Mobile/_delta_log/.s3-optimization-2', name='.s3-optimization-2', size=0, modificationTime=1734729437000) excluded with success \nFiles in the directory FileInfo(path='dbfs:/FileStore/bronze/Mobile/Online/Mobile/_delta_log/00000000000000000000.crc', name='00000000000000000000.crc', size=2796, modificationTime=1734729438000) excluded with success \nFiles in the directory FileInfo(path='dbfs:/FileStore/bronze/Mobile/Online/Mobile/_delta_log/00000000000000000000.json', name='00000000000000000000.json', size=1803, modificationTime=1734729437000) excluded with success \nFiles in the directory FileInfo(path='dbfs:/FileStore/bronze/Mobile/Online/Mobile/_delta_log/00000000000000000001.crc', name='00000000000000000001.crc', size=4241, modificationTime=1734729443000) excluded with success \nFiles in the directory FileInfo(path='dbfs:/FileStore/bronze/Mobile/Online/Mobile/_delta_log/00000000000000000001.json', name='00000000000000000001.json', size=2120, modificationTime=1734729442000) excluded with success \nFiles in the directory FileInfo(path='dbfs:/FileStore/bronze/Mobile/Online/Mobile/_delta_log/00000000000000000002.crc', name='00000000000000000002.crc', size=5595, modificationTime=1734729446000) excluded with success \nFiles in the directory FileInfo(path='dbfs:/FileStore/bronze/Mobile/Online/Mobile/_delta_log/00000000000000000002.json', name='00000000000000000002.json', size=2124, modificationTime=1734729445000) excluded with success \nFiles in the directory FileInfo(path='dbfs:/FileStore/bronze/Mobile/Online/Mobile/_delta_log/00000000000000000003.crc', name='00000000000000000003.crc', size=6952, modificationTime=1734729457000) excluded with success \nFiles in the directory FileInfo(path='dbfs:/FileStore/bronze/Mobile/Online/Mobile/_delta_log/00000000000000000003.json', name='00000000000000000003.json', size=2127, modificationTime=1734729456000) excluded with success \nFiles in the directory FileInfo(path='dbfs:/FileStore/bronze/Mobile/Online/Mobile/_delta_log/00000000000000000004.crc', name='00000000000000000004.crc', size=8309, modificationTime=1734729467000) excluded with success \nFiles in the directory FileInfo(path='dbfs:/FileStore/bronze/Mobile/Online/Mobile/_delta_log/00000000000000000004.json', name='00000000000000000004.json', size=2127, modificationTime=1734729466000) excluded with success \nFiles in the directory FileInfo(path='dbfs:/FileStore/bronze/Mobile/Online/Mobile/_delta_log/00000000000000000005.crc', name='00000000000000000005.crc', size=9653, modificationTime=1734729479000) excluded with success \nFiles in the directory FileInfo(path='dbfs:/FileStore/bronze/Mobile/Online/Mobile/_delta_log/00000000000000000005.json', name='00000000000000000005.json', size=2114, modificationTime=1734729478000) excluded with success \nFiles in the directory FileInfo(path='dbfs:/FileStore/bronze/Mobile/Online/Mobile/_delta_log/00000000000000000006.crc', name='00000000000000000006.crc', size=12365, modificationTime=1734982164000) excluded with success \nFiles in the directory FileInfo(path='dbfs:/FileStore/bronze/Mobile/Online/Mobile/_delta_log/00000000000000000006.json', name='00000000000000000006.json', size=3490, modificationTime=1734982161000) excluded with success \nFiles in the directory dbfs:/FileStore/bronze/Mobile/Online/Mobile/_delta_log/ excluded with success\nFiles in the directory FileInfo(path='dbfs:/FileStore/bronze/Mobile/Online/Mobile/_delta_log/', name='_delta_log/', size=0, modificationTime=0) excluded with success.\nFiles in the directory FileInfo(path='dbfs:/FileStore/bronze/Mobile/Online/Mobile/part-00000-00e2c805-51e8-4938-b5c5-f8ba4d0de4d5-c000.snappy.parquet', name='part-00000-00e2c805-51e8-4938-b5c5-f8ba4d0de4d5-c000.snappy.parquet', size=10614, modificationTime=1734729445000) excluded with success \nFiles in the directory FileInfo(path='dbfs:/FileStore/bronze/Mobile/Online/Mobile/part-00000-3fdeeb6d-eeaf-403b-948d-36ce0678eea1-c000.snappy.parquet', name='part-00000-3fdeeb6d-eeaf-403b-948d-36ce0678eea1-c000.snappy.parquet', size=10104, modificationTime=1734982160000) excluded with success \nFiles in the directory FileInfo(path='dbfs:/FileStore/bronze/Mobile/Online/Mobile/part-00000-6eb30012-ed82-448c-9738-e471b095e7ad-c000.snappy.parquet', name='part-00000-6eb30012-ed82-448c-9738-e471b095e7ad-c000.snappy.parquet', size=10128, modificationTime=1734729465000) excluded with success \nFiles in the directory FileInfo(path='dbfs:/FileStore/bronze/Mobile/Online/Mobile/part-00000-74824e65-96fa-4b59-9fba-bf07ea14ba3f-c000.snappy.parquet', name='part-00000-74824e65-96fa-4b59-9fba-bf07ea14ba3f-c000.snappy.parquet', size=10185, modificationTime=1734729442000) excluded with success \nFiles in the directory FileInfo(path='dbfs:/FileStore/bronze/Mobile/Online/Mobile/part-00000-a7c13420-463a-4485-a335-a5ab7bbb8c1e-c000.snappy.parquet', name='part-00000-a7c13420-463a-4485-a335-a5ab7bbb8c1e-c000.snappy.parquet', size=10197, modificationTime=1734729477000) excluded with success \nFiles in the directory FileInfo(path='dbfs:/FileStore/bronze/Mobile/Online/Mobile/part-00000-b0f1290f-9a79-4281-ad75-d34f59cfa122-c000.snappy.parquet', name='part-00000-b0f1290f-9a79-4281-ad75-d34f59cfa122-c000.snappy.parquet', size=10122, modificationTime=1734729455000) excluded with success \nFiles in the directory FileInfo(path='dbfs:/FileStore/bronze/Mobile/Online/Mobile/part-00001-70685b75-1733-480d-8013-806914eaf1ce-c000.snappy.parquet', name='part-00001-70685b75-1733-480d-8013-806914eaf1ce-c000.snappy.parquet', size=10013, modificationTime=1734982160000) excluded with success \nFiles in the directory dbfs:/FileStore/bronze/Mobile/Online/Mobile/ excluded with success\nFiles in the directory FileInfo(path='dbfs:/FileStore/bronze/Mobile/Online/Mobile/', name='Mobile/', size=0, modificationTime=0) excluded with success.\nFiles in the directory FileInfo(path='dbfs:/FileStore/bronze/Mobile/Online/Mobile_ckpt/commits/0', name='0', size=29, modificationTime=1734729443000) excluded with success \nFiles in the directory FileInfo(path='dbfs:/FileStore/bronze/Mobile/Online/Mobile_ckpt/commits/1', name='1', size=29, modificationTime=1734729446000) excluded with success \nFiles in the directory FileInfo(path='dbfs:/FileStore/bronze/Mobile/Online/Mobile_ckpt/commits/2', name='2', size=29, modificationTime=1734729457000) excluded with success \nFiles in the directory FileInfo(path='dbfs:/FileStore/bronze/Mobile/Online/Mobile_ckpt/commits/3', name='3', size=29, modificationTime=1734729467000) excluded with success \nFiles in the directory FileInfo(path='dbfs:/FileStore/bronze/Mobile/Online/Mobile_ckpt/commits/4', name='4', size=29, modificationTime=1734729479000) excluded with success \nFiles in the directory FileInfo(path='dbfs:/FileStore/bronze/Mobile/Online/Mobile_ckpt/commits/5', name='5', size=29, modificationTime=1734982164000) excluded with success \nFiles in the directory dbfs:/FileStore/bronze/Mobile/Online/Mobile_ckpt/commits/ excluded with success\nFiles in the directory FileInfo(path='dbfs:/FileStore/bronze/Mobile/Online/Mobile_ckpt/commits/', name='commits/', size=0, modificationTime=0) excluded with success.\nFiles in the directory FileInfo(path='dbfs:/FileStore/bronze/Mobile/Online/Mobile_ckpt/metadata', name='metadata', size=45, modificationTime=1734729439000) excluded with success \nFiles in the directory FileInfo(path='dbfs:/FileStore/bronze/Mobile/Online/Mobile_ckpt/offsets/0', name='0', size=879, modificationTime=1734729441000) excluded with success \nFiles in the directory FileInfo(path='dbfs:/FileStore/bronze/Mobile/Online/Mobile_ckpt/offsets/1', name='1', size=879, modificationTime=1734729444000) excluded with success \nFiles in the directory FileInfo(path='dbfs:/FileStore/bronze/Mobile/Online/Mobile_ckpt/offsets/2', name='2', size=879, modificationTime=1734729455000) excluded with success \nFiles in the directory FileInfo(path='dbfs:/FileStore/bronze/Mobile/Online/Mobile_ckpt/offsets/3', name='3', size=879, modificationTime=1734729465000) excluded with success \nFiles in the directory FileInfo(path='dbfs:/FileStore/bronze/Mobile/Online/Mobile_ckpt/offsets/4', name='4', size=880, modificationTime=1734729477000) excluded with success \nFiles in the directory FileInfo(path='dbfs:/FileStore/bronze/Mobile/Online/Mobile_ckpt/offsets/5', name='5', size=880, modificationTime=1734982159000) excluded with success \nFiles in the directory dbfs:/FileStore/bronze/Mobile/Online/Mobile_ckpt/offsets/ excluded with success\nFiles in the directory FileInfo(path='dbfs:/FileStore/bronze/Mobile/Online/Mobile_ckpt/offsets/', name='offsets/', size=0, modificationTime=0) excluded with success.\nFiles in the directory FileInfo(path='dbfs:/FileStore/bronze/Mobile/Online/Mobile_ckpt/sources/0/metadata', name='metadata', size=133, modificationTime=1734729439000) excluded with success \nFiles in the directory FileInfo(path='dbfs:/FileStore/bronze/Mobile/Online/Mobile_ckpt/sources/0/rocksdb/0.zip', name='0.zip', size=160, modificationTime=1734729439000) excluded with success \nFiles in the directory FileInfo(path='dbfs:/FileStore/bronze/Mobile/Online/Mobile_ckpt/sources/0/rocksdb/1.zip', name='1.zip', size=3578, modificationTime=1734729441000) excluded with success \nFiles in the directory FileInfo(path='dbfs:/FileStore/bronze/Mobile/Online/Mobile_ckpt/sources/0/rocksdb/2.zip', name='2.zip', size=3713, modificationTime=1734729444000) excluded with success \nFiles in the directory FileInfo(path='dbfs:/FileStore/bronze/Mobile/Online/Mobile_ckpt/sources/0/rocksdb/3.zip', name='3.zip', size=3821, modificationTime=1734729455000) excluded with success \nFiles in the directory FileInfo(path='dbfs:/FileStore/bronze/Mobile/Online/Mobile_ckpt/sources/0/rocksdb/4.zip', name='4.zip', size=3845, modificationTime=1734729465000) excluded with success \nFiles in the directory FileInfo(path='dbfs:/FileStore/bronze/Mobile/Online/Mobile_ckpt/sources/0/rocksdb/5.zip', name='5.zip', size=3812, modificationTime=1734729477000) excluded with success \nFiles in the directory FileInfo(path='dbfs:/FileStore/bronze/Mobile/Online/Mobile_ckpt/sources/0/rocksdb/6.zip', name='6.zip', size=3963, modificationTime=1734982159000) excluded with success \nFiles in the directory FileInfo(path='dbfs:/FileStore/bronze/Mobile/Online/Mobile_ckpt/sources/0/rocksdb/7.zip', name='7.zip', size=3963, modificationTime=1734982164000) excluded with success \nFiles in the directory FileInfo(path='dbfs:/FileStore/bronze/Mobile/Online/Mobile_ckpt/sources/0/rocksdb/SSTs/000009-3203979a-6bc3-446c-a227-3481dfc4fa26.sst', name='000009-3203979a-6bc3-446c-a227-3481dfc4fa26.sst', size=1389, modificationTime=1734729441000) excluded with success \nFiles in the directory FileInfo(path='dbfs:/FileStore/bronze/Mobile/Online/Mobile_ckpt/sources/0/rocksdb/SSTs/000012-cf58beaf-160c-435c-a05a-b76db80968d8.sst', name='000012-cf58beaf-160c-435c-a05a-b76db80968d8.sst', size=1387, modificationTime=1734729444000) excluded with success \nFiles in the directory FileInfo(path='dbfs:/FileStore/bronze/Mobile/Online/Mobile_ckpt/sources/0/rocksdb/SSTs/000015-20311a67-76cc-489f-96de-439d0c6e50d7.sst', name='000015-20311a67-76cc-489f-96de-439d0c6e50d7.sst', size=1387, modificationTime=1734729455000) excluded with success \nFiles in the directory FileInfo(path='dbfs:/FileStore/bronze/Mobile/Online/Mobile_ckpt/sources/0/rocksdb/SSTs/000020-ccabeb2e-42a1-4f32-934a-b7be1fc0205f.sst', name='000020-ccabeb2e-42a1-4f32-934a-b7be1fc0205f.sst', size=1482, modificationTime=1734729465000) excluded with success \nFiles in the directory FileInfo(path='dbfs:/FileStore/bronze/Mobile/Online/Mobile_ckpt/sources/0/rocksdb/SSTs/000023-c785d67e-9098-4a08-8e96-f1d8942e462e.sst', name='000023-c785d67e-9098-4a08-8e96-f1d8942e462e.sst', size=1386, modificationTime=1734729477000) excluded with success \nFiles in the directory FileInfo(path='dbfs:/FileStore/bronze/Mobile/Online/Mobile_ckpt/sources/0/rocksdb/SSTs/000032-9908ab9d-8dcb-4cf5-ba3a-72d0b66b4c8f.sst', name='000032-9908ab9d-8dcb-4cf5-ba3a-72d0b66b4c8f.sst', size=1436, modificationTime=1734982159000) excluded with success \nFiles in the directory dbfs:/FileStore/bronze/Mobile/Online/Mobile_ckpt/sources/0/rocksdb/SSTs/ excluded with success\nFiles in the directory FileInfo(path='dbfs:/FileStore/bronze/Mobile/Online/Mobile_ckpt/sources/0/rocksdb/SSTs/', name='SSTs/', size=0, modificationTime=0) excluded with success.\nFiles in the directory FileInfo(path='dbfs:/FileStore/bronze/Mobile/Online/Mobile_ckpt/sources/0/rocksdb/logs/000004-4b11260c-7c19-48c6-bf6f-40218858d333.log', name='000004-4b11260c-7c19-48c6-bf6f-40218858d333.log', size=535, modificationTime=1734729441000) excluded with success \nFiles in the directory FileInfo(path='dbfs:/FileStore/bronze/Mobile/Online/Mobile_ckpt/sources/0/rocksdb/logs/000008-97e4a2b1-ac25-4e66-b2fc-43a51aca2707.log', name='000008-97e4a2b1-ac25-4e66-b2fc-43a51aca2707.log', size=535, modificationTime=1734729444000) excluded with success \nFiles in the directory FileInfo(path='dbfs:/FileStore/bronze/Mobile/Online/Mobile_ckpt/sources/0/rocksdb/logs/000011-ac52defa-5bb1-4da2-aff0-7ada13d8665b.log', name='000011-ac52defa-5bb1-4da2-aff0-7ada13d8665b.log', size=535, modificationTime=1734729455000) excluded with success \nFiles in the directory FileInfo(path='dbfs:/FileStore/bronze/Mobile/Online/Mobile_ckpt/sources/0/rocksdb/logs/000014-3d849bb0-7d3e-46c3-a31c-30d272a17d41.log', name='000014-3d849bb0-7d3e-46c3-a31c-30d272a17d41.log', size=535, modificationTime=1734729465000) excluded with success \nFiles in the directory FileInfo(path='dbfs:/FileStore/bronze/Mobile/Online/Mobile_ckpt/sources/0/rocksdb/logs/000017-2ca34fda-f9e9-4076-9e81-64b84ff8763b.log', name='000017-2ca34fda-f9e9-4076-9e81-64b84ff8763b.log', size=535, modificationTime=1734729477000) excluded with success \nFiles in the directory FileInfo(path='dbfs:/FileStore/bronze/Mobile/Online/Mobile_ckpt/sources/0/rocksdb/logs/000027-269a8a0e-bf8f-4d09-ad95-78da8bd0ea4f.log', name='000027-269a8a0e-bf8f-4d09-ad95-78da8bd0ea4f.log', size=826, modificationTime=1734982159000) excluded with success \nFiles in the directory dbfs:/FileStore/bronze/Mobile/Online/Mobile_ckpt/sources/0/rocksdb/logs/ excluded with success\nFiles in the directory FileInfo(path='dbfs:/FileStore/bronze/Mobile/Online/Mobile_ckpt/sources/0/rocksdb/logs/', name='logs/', size=0, modificationTime=0) excluded with success.\nFiles in the directory dbfs:/FileStore/bronze/Mobile/Online/Mobile_ckpt/sources/0/rocksdb/ excluded with success\nFiles in the directory FileInfo(path='dbfs:/FileStore/bronze/Mobile/Online/Mobile_ckpt/sources/0/rocksdb/', name='rocksdb/', size=0, modificationTime=0) excluded with success.\nFiles in the directory dbfs:/FileStore/bronze/Mobile/Online/Mobile_ckpt/sources/0/ excluded with success\nFiles in the directory FileInfo(path='dbfs:/FileStore/bronze/Mobile/Online/Mobile_ckpt/sources/0/', name='0/', size=0, modificationTime=0) excluded with success.\nFiles in the directory dbfs:/FileStore/bronze/Mobile/Online/Mobile_ckpt/sources/ excluded with success\nFiles in the directory FileInfo(path='dbfs:/FileStore/bronze/Mobile/Online/Mobile_ckpt/sources/', name='sources/', size=0, modificationTime=0) excluded with success.\nFiles in the directory dbfs:/FileStore/bronze/Mobile/Online/Mobile_ckpt/ excluded with success\nFiles in the directory FileInfo(path='dbfs:/FileStore/bronze/Mobile/Online/Mobile_ckpt/', name='Mobile_ckpt/', size=0, modificationTime=0) excluded with success.\nFiles in the directory FileInfo(path='dbfs:/FileStore/bronze/Mobile/Online/Mobile_schema/_schemas/0', name='0', size=676, modificationTime=1734729432000) excluded with success \nFiles in the directory dbfs:/FileStore/bronze/Mobile/Online/Mobile_schema/_schemas/ excluded with success\nFiles in the directory FileInfo(path='dbfs:/FileStore/bronze/Mobile/Online/Mobile_schema/_schemas/', name='_schemas/', size=0, modificationTime=0) excluded with success.\nFiles in the directory dbfs:/FileStore/bronze/Mobile/Online/Mobile_schema/ excluded with success\nFiles in the directory FileInfo(path='dbfs:/FileStore/bronze/Mobile/Online/Mobile_schema/', name='Mobile_schema/', size=0, modificationTime=0) excluded with success.\nFiles in the directory dbfs:/FileStore/bronze/Mobile/Online/ excluded with success\nFiles in the directory FileInfo(path='dbfs:/FileStore/bronze/Mobile/Online/', name='Online/', size=0, modificationTime=0) excluded with success.\nFiles in the directory dbfs:/FileStore/bronze/Mobile/ excluded with success\nFiles in the directory FileInfo(path='dbfs:/FileStore/bronze/Mobile/', name='Mobile/', size=0, modificationTime=0) excluded with success.\nFiles in the directory /FileStore/bronze/ excluded with success\n"
     ]
    }
   ],
   "source": [
    "%python\n",
    "directory_path = \"/FileStore/bronze/\"\n",
    "delete_directory(dbutils, directory_path)"
   ]
  },
  {
   "cell_type": "code",
   "execution_count": 0,
   "metadata": {
    "application/vnd.databricks.v1+cell": {
     "cellMetadata": {
      "byteLimit": 2048000,
      "rowLimit": 10000
     },
     "inputWidgets": {},
     "nuid": "a9f3f6e8-aa76-43a4-a5af-33b43ce84106",
     "showTitle": false,
     "tableResultSettingsMap": {},
     "title": ""
    }
   },
   "outputs": [
    {
     "output_type": "stream",
     "name": "stdout",
     "output_type": "stream",
     "text": [
      "Files in the directory /FileStore/silver/ excluded with success\n"
     ]
    }
   ],
   "source": [
    "%python\n",
    "directory_path = \"/FileStore/silver/\"\n",
    "delete_directory(dbutils, directory_path)"
   ]
  },
  {
   "cell_type": "code",
   "execution_count": 0,
   "metadata": {
    "application/vnd.databricks.v1+cell": {
     "cellMetadata": {},
     "inputWidgets": {},
     "nuid": "5f75f29f-66ef-4890-9369-3551d5576ff7",
     "showTitle": false,
     "tableResultSettingsMap": {},
     "title": ""
    }
   },
   "outputs": [],
   "source": [
    "%python\n",
    "directory_path = \"/FileStore/gold/\"\n",
    "delete_directory(dbutils, directory_path)"
   ]
  },
  {
   "cell_type": "code",
   "execution_count": 0,
   "metadata": {
    "application/vnd.databricks.v1+cell": {
     "cellMetadata": {
      "byteLimit": 2048000,
      "rowLimit": 10000
     },
     "inputWidgets": {},
     "nuid": "4bd3ad06-2f76-4c0b-b121-d84025738356",
     "showTitle": false,
     "tableResultSettingsMap": {},
     "title": ""
    }
   },
   "outputs": [
    {
     "output_type": "display_data",
     "data": {
      "text/plain": [
       "com.databricks.backend.common.rpc.CommandCancelledException\n",
       "\tat com.databricks.spark.chauffeur.ExecContextState.cancel(ExecContextState.scala:447)\n",
       "\tat com.databricks.spark.chauffeur.ChauffeurState.cancelExecution(ChauffeurState.scala:1311)\n",
       "\tat com.databricks.spark.chauffeur.ChauffeurState.$anonfun$process$1(ChauffeurState.scala:1028)\n",
       "\tat com.databricks.logging.UsageLogging.$anonfun$recordOperation$1(UsageLogging.scala:573)\n",
       "\tat com.databricks.logging.UsageLogging.executeThunkAndCaptureResultTags$1(UsageLogging.scala:669)\n",
       "\tat com.databricks.logging.UsageLogging.$anonfun$recordOperationWithResultTags$4(UsageLogging.scala:687)\n",
       "\tat com.databricks.logging.UsageLogging.$anonfun$withAttributionContext$1(UsageLogging.scala:426)\n",
       "\tat scala.util.DynamicVariable.withValue(DynamicVariable.scala:62)\n",
       "\tat com.databricks.logging.AttributionContext$.withValue(AttributionContext.scala:216)\n",
       "\tat com.databricks.logging.UsageLogging.withAttributionContext(UsageLogging.scala:424)\n",
       "\tat com.databricks.logging.UsageLogging.withAttributionContext$(UsageLogging.scala:418)\n",
       "\tat com.databricks.spark.chauffeur.ChauffeurState.withAttributionContext(ChauffeurState.scala:74)\n",
       "\tat com.databricks.logging.UsageLogging.withAttributionTags(UsageLogging.scala:472)\n",
       "\tat com.databricks.logging.UsageLogging.withAttributionTags$(UsageLogging.scala:455)\n",
       "\tat com.databricks.spark.chauffeur.ChauffeurState.withAttributionTags(ChauffeurState.scala:74)\n",
       "\tat com.databricks.logging.UsageLogging.recordOperationWithResultTags(UsageLogging.scala:664)\n",
       "\tat com.databricks.logging.UsageLogging.recordOperationWithResultTags$(UsageLogging.scala:582)\n",
       "\tat com.databricks.spark.chauffeur.ChauffeurState.recordOperationWithResultTags(ChauffeurState.scala:74)\n",
       "\tat com.databricks.logging.UsageLogging.recordOperation(UsageLogging.scala:573)\n",
       "\tat com.databricks.logging.UsageLogging.recordOperation$(UsageLogging.scala:542)\n",
       "\tat com.databricks.spark.chauffeur.ChauffeurState.recordOperation(ChauffeurState.scala:74)\n",
       "\tat com.databricks.spark.chauffeur.ChauffeurState.process(ChauffeurState.scala:989)\n",
       "\tat com.databricks.spark.chauffeur.Chauffeur$$anon$1$$anonfun$receive$1.handleDriverRequest$1(Chauffeur.scala:799)\n",
       "\tat com.databricks.spark.chauffeur.Chauffeur$$anon$1$$anonfun$receive$1.handleDriverRequestWithUsageLogging$1(Chauffeur.scala:815)\n",
       "\tat com.databricks.spark.chauffeur.Chauffeur$$anon$1$$anonfun$receive$1.applyOrElse(Chauffeur.scala:879)\n",
       "\tat com.databricks.spark.chauffeur.Chauffeur$$anon$1$$anonfun$receive$1.applyOrElse(Chauffeur.scala:672)\n",
       "\tat com.databricks.rpc.ServerBackend.$anonfun$internalReceive0$2(ServerBackend.scala:174)\n",
       "\tat com.databricks.rpc.ServerBackend$$anonfun$commonReceive$1.applyOrElse(ServerBackend.scala:200)\n",
       "\tat com.databricks.rpc.ServerBackend$$anonfun$commonReceive$1.applyOrElse(ServerBackend.scala:200)\n",
       "\tat com.databricks.rpc.ServerBackend.internalReceive0(ServerBackend.scala:171)\n",
       "\tat com.databricks.rpc.ServerBackend.$anonfun$internalReceive$1(ServerBackend.scala:147)\n",
       "\tat com.databricks.logging.UsageLogging.$anonfun$recordOperation$1(UsageLogging.scala:573)\n",
       "\tat com.databricks.logging.UsageLogging.executeThunkAndCaptureResultTags$1(UsageLogging.scala:669)\n",
       "\tat com.databricks.logging.UsageLogging.$anonfun$recordOperationWithResultTags$4(UsageLogging.scala:687)\n",
       "\tat com.databricks.logging.UsageLogging.$anonfun$withAttributionContext$1(UsageLogging.scala:426)\n",
       "\tat scala.util.DynamicVariable.withValue(DynamicVariable.scala:62)\n",
       "\tat com.databricks.logging.AttributionContext$.withValue(AttributionContext.scala:216)\n",
       "\tat com.databricks.logging.UsageLogging.withAttributionContext(UsageLogging.scala:424)\n",
       "\tat com.databricks.logging.UsageLogging.withAttributionContext$(UsageLogging.scala:418)\n",
       "\tat com.databricks.rpc.ServerBackend.withAttributionContext(ServerBackend.scala:22)\n",
       "\tat com.databricks.logging.UsageLogging.withAttributionTags(UsageLogging.scala:472)\n",
       "\tat com.databricks.logging.UsageLogging.withAttributionTags$(UsageLogging.scala:455)\n",
       "\tat com.databricks.rpc.ServerBackend.withAttributionTags(ServerBackend.scala:22)\n",
       "\tat com.databricks.logging.UsageLogging.recordOperationWithResultTags(UsageLogging.scala:664)\n",
       "\tat com.databricks.logging.UsageLogging.recordOperationWithResultTags$(UsageLogging.scala:582)\n",
       "\tat com.databricks.rpc.ServerBackend.recordOperationWithResultTags(ServerBackend.scala:22)\n",
       "\tat com.databricks.logging.UsageLogging.recordOperation(UsageLogging.scala:573)\n",
       "\tat com.databricks.logging.UsageLogging.recordOperation$(UsageLogging.scala:542)\n",
       "\tat com.databricks.rpc.ServerBackend.recordOperation(ServerBackend.scala:22)\n",
       "\tat com.databricks.rpc.ServerBackend.internalReceive(ServerBackend.scala:147)\n",
       "\tat com.databricks.rpc.JettyServer$RequestManager.handleRPC(JettyServer.scala:1020)\n",
       "\tat com.databricks.rpc.JettyServer$RequestManager.handleRequestAndRespond(JettyServer.scala:941)\n",
       "\tat com.databricks.rpc.JettyServer$RequestManager.$anonfun$handleHttp$6(JettyServer.scala:545)\n",
       "\tat com.databricks.rpc.JettyServer$RequestManager.$anonfun$handleHttp$6$adapted(JettyServer.scala:514)\n",
       "\tat com.databricks.logging.activity.ActivityContextFactory$.$anonfun$withActivityInternal$4(ActivityContextFactory.scala:405)\n",
       "\tat com.databricks.logging.UsageLogging.$anonfun$withAttributionContext$1(UsageLogging.scala:426)\n",
       "\tat scala.util.DynamicVariable.withValue(DynamicVariable.scala:62)\n",
       "\tat com.databricks.logging.AttributionContext$.withValue(AttributionContext.scala:216)\n",
       "\tat com.databricks.logging.UsageLogging.withAttributionContext(UsageLogging.scala:424)\n",
       "\tat com.databricks.logging.UsageLogging.withAttributionContext$(UsageLogging.scala:418)\n",
       "\tat com.databricks.logging.activity.ActivityContextFactory$.withAttributionContext(ActivityContextFactory.scala:58)\n",
       "\tat com.databricks.logging.activity.ActivityContextFactory$.$anonfun$withActivityInternal$1(ActivityContextFactory.scala:405)\n",
       "\tat com.databricks.context.integrity.IntegrityCheckContext$ThreadLocalStorage$.withValue(IntegrityCheckContext.scala:44)\n",
       "\tat com.databricks.logging.activity.ActivityContextFactory$.withActivityInternal(ActivityContextFactory.scala:380)\n",
       "\tat com.databricks.logging.activity.ActivityContextFactory$.withServiceRequestActivity(ActivityContextFactory.scala:159)\n",
       "\tat com.databricks.rpc.JettyServer$RequestManager.handleHttp(JettyServer.scala:514)\n",
       "\tat com.databricks.rpc.JettyServer$RequestManager.doPost(JettyServer.scala:404)\n",
       "\tat javax.servlet.http.HttpServlet.service(HttpServlet.java:665)\n",
       "\tat com.databricks.rpc.HttpServletWithPatch.service(HttpServletWithPatch.scala:33)\n",
       "\tat javax.servlet.http.HttpServlet.service(HttpServlet.java:750)\n",
       "\tat org.eclipse.jetty.servlet.ServletHolder.handle(ServletHolder.java:799)\n",
       "\tat org.eclipse.jetty.servlet.ServletHandler.doHandle(ServletHandler.java:554)\n",
       "\tat org.eclipse.jetty.server.handler.ScopedHandler.nextScope(ScopedHandler.java:190)\n",
       "\tat org.eclipse.jetty.servlet.ServletHandler.doScope(ServletHandler.java:505)\n",
       "\tat org.eclipse.jetty.server.handler.ScopedHandler.handle(ScopedHandler.java:141)\n",
       "\tat org.eclipse.jetty.server.handler.HandlerWrapper.handle(HandlerWrapper.java:127)\n",
       "\tat org.eclipse.jetty.server.Server.handle(Server.java:516)\n",
       "\tat org.eclipse.jetty.server.HttpChannel.lambda$handle$1(HttpChannel.java:487)\n",
       "\tat org.eclipse.jetty.server.HttpChannel.dispatch(HttpChannel.java:732)\n",
       "\tat org.eclipse.jetty.server.HttpChannel.handle(HttpChannel.java:479)\n",
       "\tat org.eclipse.jetty.server.HttpConnection.onFillable(HttpConnection.java:277)\n",
       "\tat org.eclipse.jetty.io.AbstractConnection$ReadCallback.succeeded(AbstractConnection.java:311)\n",
       "\tat org.eclipse.jetty.io.FillInterest.fillable(FillInterest.java:105)\n",
       "\tat org.eclipse.jetty.io.ssl.SslConnection$DecryptedEndPoint.onFillable(SslConnection.java:555)\n",
       "\tat org.eclipse.jetty.io.ssl.SslConnection.onFillable(SslConnection.java:410)\n",
       "\tat org.eclipse.jetty.io.ssl.SslConnection$2.succeeded(SslConnection.java:164)\n",
       "\tat org.eclipse.jetty.io.FillInterest.fillable(FillInterest.java:105)\n",
       "\tat org.eclipse.jetty.io.ChannelEndPoint$1.run(ChannelEndPoint.java:104)\n",
       "\tat org.eclipse.jetty.util.thread.strategy.EatWhatYouKill.runTask(EatWhatYouKill.java:338)\n",
       "\tat org.eclipse.jetty.util.thread.strategy.EatWhatYouKill.doProduce(EatWhatYouKill.java:315)\n",
       "\tat org.eclipse.jetty.util.thread.strategy.EatWhatYouKill.tryProduce(EatWhatYouKill.java:173)\n",
       "\tat org.eclipse.jetty.util.thread.strategy.EatWhatYouKill.run(EatWhatYouKill.java:131)\n",
       "\tat org.eclipse.jetty.util.thread.ReservedThreadExecutor$ReservedThread.run(ReservedThreadExecutor.java:409)\n",
       "\tat com.databricks.rpc.InstrumentedQueuedThreadPool$$anon$1.$anonfun$run$4(InstrumentedQueuedThreadPool.scala:104)\n",
       "\tat scala.runtime.java8.JFunction0$mcV$sp.apply(JFunction0$mcV$sp.java:23)\n",
       "\tat com.databricks.logging.UsageLogging.$anonfun$withAttributionContext$1(UsageLogging.scala:426)\n",
       "\tat scala.util.DynamicVariable.withValue(DynamicVariable.scala:62)\n",
       "\tat com.databricks.logging.AttributionContext$.withValue(AttributionContext.scala:216)\n",
       "\tat com.databricks.logging.UsageLogging.withAttributionContext(UsageLogging.scala:424)\n",
       "\tat com.databricks.logging.UsageLogging.withAttributionContext$(UsageLogging.scala:418)\n",
       "\tat com.databricks.rpc.InstrumentedQueuedThreadPool.withAttributionContext(InstrumentedQueuedThreadPool.scala:47)\n",
       "\tat com.databricks.rpc.InstrumentedQueuedThreadPool$$anon$1.$anonfun$run$1(InstrumentedQueuedThreadPool.scala:104)\n",
       "\tat scala.runtime.java8.JFunction0$mcV$sp.apply(JFunction0$mcV$sp.java:23)\n",
       "\tat com.databricks.instrumentation.QueuedThreadPoolInstrumenter.trackActiveThreads(QueuedThreadPoolInstrumenter.scala:66)\n",
       "\tat com.databricks.instrumentation.QueuedThreadPoolInstrumenter.trackActiveThreads$(QueuedThreadPoolInstrumenter.scala:63)\n",
       "\tat com.databricks.rpc.InstrumentedQueuedThreadPool.trackActiveThreads(InstrumentedQueuedThreadPool.scala:47)\n",
       "\tat com.databricks.rpc.InstrumentedQueuedThreadPool$$anon$1.run(InstrumentedQueuedThreadPool.scala:86)\n",
       "\tat org.eclipse.jetty.util.thread.QueuedThreadPool.runJob(QueuedThreadPool.java:883)\n",
       "\tat org.eclipse.jetty.util.thread.QueuedThreadPool$Runner.run(QueuedThreadPool.java:1034)\n",
       "\tat java.lang.Thread.run(Thread.java:750)"
      ]
     },
     "metadata": {
      "application/vnd.databricks.v1+output": {
       "addedWidgets": {},
       "arguments": {},
       "datasetInfos": [],
       "jupyterProps": null,
       "metadata": {
        "errorSummary": "Cancelled"
       },
       "removedWidgets": [],
       "sqlProps": null,
       "stackFrames": [
        "com.databricks.backend.common.rpc.CommandCancelledException",
        "\tat com.databricks.spark.chauffeur.ExecContextState.cancel(ExecContextState.scala:447)",
        "\tat com.databricks.spark.chauffeur.ChauffeurState.cancelExecution(ChauffeurState.scala:1311)",
        "\tat com.databricks.spark.chauffeur.ChauffeurState.$anonfun$process$1(ChauffeurState.scala:1028)",
        "\tat com.databricks.logging.UsageLogging.$anonfun$recordOperation$1(UsageLogging.scala:573)",
        "\tat com.databricks.logging.UsageLogging.executeThunkAndCaptureResultTags$1(UsageLogging.scala:669)",
        "\tat com.databricks.logging.UsageLogging.$anonfun$recordOperationWithResultTags$4(UsageLogging.scala:687)",
        "\tat com.databricks.logging.UsageLogging.$anonfun$withAttributionContext$1(UsageLogging.scala:426)",
        "\tat scala.util.DynamicVariable.withValue(DynamicVariable.scala:62)",
        "\tat com.databricks.logging.AttributionContext$.withValue(AttributionContext.scala:216)",
        "\tat com.databricks.logging.UsageLogging.withAttributionContext(UsageLogging.scala:424)",
        "\tat com.databricks.logging.UsageLogging.withAttributionContext$(UsageLogging.scala:418)",
        "\tat com.databricks.spark.chauffeur.ChauffeurState.withAttributionContext(ChauffeurState.scala:74)",
        "\tat com.databricks.logging.UsageLogging.withAttributionTags(UsageLogging.scala:472)",
        "\tat com.databricks.logging.UsageLogging.withAttributionTags$(UsageLogging.scala:455)",
        "\tat com.databricks.spark.chauffeur.ChauffeurState.withAttributionTags(ChauffeurState.scala:74)",
        "\tat com.databricks.logging.UsageLogging.recordOperationWithResultTags(UsageLogging.scala:664)",
        "\tat com.databricks.logging.UsageLogging.recordOperationWithResultTags$(UsageLogging.scala:582)",
        "\tat com.databricks.spark.chauffeur.ChauffeurState.recordOperationWithResultTags(ChauffeurState.scala:74)",
        "\tat com.databricks.logging.UsageLogging.recordOperation(UsageLogging.scala:573)",
        "\tat com.databricks.logging.UsageLogging.recordOperation$(UsageLogging.scala:542)",
        "\tat com.databricks.spark.chauffeur.ChauffeurState.recordOperation(ChauffeurState.scala:74)",
        "\tat com.databricks.spark.chauffeur.ChauffeurState.process(ChauffeurState.scala:989)",
        "\tat com.databricks.spark.chauffeur.Chauffeur$$anon$1$$anonfun$receive$1.handleDriverRequest$1(Chauffeur.scala:799)",
        "\tat com.databricks.spark.chauffeur.Chauffeur$$anon$1$$anonfun$receive$1.handleDriverRequestWithUsageLogging$1(Chauffeur.scala:815)",
        "\tat com.databricks.spark.chauffeur.Chauffeur$$anon$1$$anonfun$receive$1.applyOrElse(Chauffeur.scala:879)",
        "\tat com.databricks.spark.chauffeur.Chauffeur$$anon$1$$anonfun$receive$1.applyOrElse(Chauffeur.scala:672)",
        "\tat com.databricks.rpc.ServerBackend.$anonfun$internalReceive0$2(ServerBackend.scala:174)",
        "\tat com.databricks.rpc.ServerBackend$$anonfun$commonReceive$1.applyOrElse(ServerBackend.scala:200)",
        "\tat com.databricks.rpc.ServerBackend$$anonfun$commonReceive$1.applyOrElse(ServerBackend.scala:200)",
        "\tat com.databricks.rpc.ServerBackend.internalReceive0(ServerBackend.scala:171)",
        "\tat com.databricks.rpc.ServerBackend.$anonfun$internalReceive$1(ServerBackend.scala:147)",
        "\tat com.databricks.logging.UsageLogging.$anonfun$recordOperation$1(UsageLogging.scala:573)",
        "\tat com.databricks.logging.UsageLogging.executeThunkAndCaptureResultTags$1(UsageLogging.scala:669)",
        "\tat com.databricks.logging.UsageLogging.$anonfun$recordOperationWithResultTags$4(UsageLogging.scala:687)",
        "\tat com.databricks.logging.UsageLogging.$anonfun$withAttributionContext$1(UsageLogging.scala:426)",
        "\tat scala.util.DynamicVariable.withValue(DynamicVariable.scala:62)",
        "\tat com.databricks.logging.AttributionContext$.withValue(AttributionContext.scala:216)",
        "\tat com.databricks.logging.UsageLogging.withAttributionContext(UsageLogging.scala:424)",
        "\tat com.databricks.logging.UsageLogging.withAttributionContext$(UsageLogging.scala:418)",
        "\tat com.databricks.rpc.ServerBackend.withAttributionContext(ServerBackend.scala:22)",
        "\tat com.databricks.logging.UsageLogging.withAttributionTags(UsageLogging.scala:472)",
        "\tat com.databricks.logging.UsageLogging.withAttributionTags$(UsageLogging.scala:455)",
        "\tat com.databricks.rpc.ServerBackend.withAttributionTags(ServerBackend.scala:22)",
        "\tat com.databricks.logging.UsageLogging.recordOperationWithResultTags(UsageLogging.scala:664)",
        "\tat com.databricks.logging.UsageLogging.recordOperationWithResultTags$(UsageLogging.scala:582)",
        "\tat com.databricks.rpc.ServerBackend.recordOperationWithResultTags(ServerBackend.scala:22)",
        "\tat com.databricks.logging.UsageLogging.recordOperation(UsageLogging.scala:573)",
        "\tat com.databricks.logging.UsageLogging.recordOperation$(UsageLogging.scala:542)",
        "\tat com.databricks.rpc.ServerBackend.recordOperation(ServerBackend.scala:22)",
        "\tat com.databricks.rpc.ServerBackend.internalReceive(ServerBackend.scala:147)",
        "\tat com.databricks.rpc.JettyServer$RequestManager.handleRPC(JettyServer.scala:1020)",
        "\tat com.databricks.rpc.JettyServer$RequestManager.handleRequestAndRespond(JettyServer.scala:941)",
        "\tat com.databricks.rpc.JettyServer$RequestManager.$anonfun$handleHttp$6(JettyServer.scala:545)",
        "\tat com.databricks.rpc.JettyServer$RequestManager.$anonfun$handleHttp$6$adapted(JettyServer.scala:514)",
        "\tat com.databricks.logging.activity.ActivityContextFactory$.$anonfun$withActivityInternal$4(ActivityContextFactory.scala:405)",
        "\tat com.databricks.logging.UsageLogging.$anonfun$withAttributionContext$1(UsageLogging.scala:426)",
        "\tat scala.util.DynamicVariable.withValue(DynamicVariable.scala:62)",
        "\tat com.databricks.logging.AttributionContext$.withValue(AttributionContext.scala:216)",
        "\tat com.databricks.logging.UsageLogging.withAttributionContext(UsageLogging.scala:424)",
        "\tat com.databricks.logging.UsageLogging.withAttributionContext$(UsageLogging.scala:418)",
        "\tat com.databricks.logging.activity.ActivityContextFactory$.withAttributionContext(ActivityContextFactory.scala:58)",
        "\tat com.databricks.logging.activity.ActivityContextFactory$.$anonfun$withActivityInternal$1(ActivityContextFactory.scala:405)",
        "\tat com.databricks.context.integrity.IntegrityCheckContext$ThreadLocalStorage$.withValue(IntegrityCheckContext.scala:44)",
        "\tat com.databricks.logging.activity.ActivityContextFactory$.withActivityInternal(ActivityContextFactory.scala:380)",
        "\tat com.databricks.logging.activity.ActivityContextFactory$.withServiceRequestActivity(ActivityContextFactory.scala:159)",
        "\tat com.databricks.rpc.JettyServer$RequestManager.handleHttp(JettyServer.scala:514)",
        "\tat com.databricks.rpc.JettyServer$RequestManager.doPost(JettyServer.scala:404)",
        "\tat javax.servlet.http.HttpServlet.service(HttpServlet.java:665)",
        "\tat com.databricks.rpc.HttpServletWithPatch.service(HttpServletWithPatch.scala:33)",
        "\tat javax.servlet.http.HttpServlet.service(HttpServlet.java:750)",
        "\tat org.eclipse.jetty.servlet.ServletHolder.handle(ServletHolder.java:799)",
        "\tat org.eclipse.jetty.servlet.ServletHandler.doHandle(ServletHandler.java:554)",
        "\tat org.eclipse.jetty.server.handler.ScopedHandler.nextScope(ScopedHandler.java:190)",
        "\tat org.eclipse.jetty.servlet.ServletHandler.doScope(ServletHandler.java:505)",
        "\tat org.eclipse.jetty.server.handler.ScopedHandler.handle(ScopedHandler.java:141)",
        "\tat org.eclipse.jetty.server.handler.HandlerWrapper.handle(HandlerWrapper.java:127)",
        "\tat org.eclipse.jetty.server.Server.handle(Server.java:516)",
        "\tat org.eclipse.jetty.server.HttpChannel.lambda$handle$1(HttpChannel.java:487)",
        "\tat org.eclipse.jetty.server.HttpChannel.dispatch(HttpChannel.java:732)",
        "\tat org.eclipse.jetty.server.HttpChannel.handle(HttpChannel.java:479)",
        "\tat org.eclipse.jetty.server.HttpConnection.onFillable(HttpConnection.java:277)",
        "\tat org.eclipse.jetty.io.AbstractConnection$ReadCallback.succeeded(AbstractConnection.java:311)",
        "\tat org.eclipse.jetty.io.FillInterest.fillable(FillInterest.java:105)",
        "\tat org.eclipse.jetty.io.ssl.SslConnection$DecryptedEndPoint.onFillable(SslConnection.java:555)",
        "\tat org.eclipse.jetty.io.ssl.SslConnection.onFillable(SslConnection.java:410)",
        "\tat org.eclipse.jetty.io.ssl.SslConnection$2.succeeded(SslConnection.java:164)",
        "\tat org.eclipse.jetty.io.FillInterest.fillable(FillInterest.java:105)",
        "\tat org.eclipse.jetty.io.ChannelEndPoint$1.run(ChannelEndPoint.java:104)",
        "\tat org.eclipse.jetty.util.thread.strategy.EatWhatYouKill.runTask(EatWhatYouKill.java:338)",
        "\tat org.eclipse.jetty.util.thread.strategy.EatWhatYouKill.doProduce(EatWhatYouKill.java:315)",
        "\tat org.eclipse.jetty.util.thread.strategy.EatWhatYouKill.tryProduce(EatWhatYouKill.java:173)",
        "\tat org.eclipse.jetty.util.thread.strategy.EatWhatYouKill.run(EatWhatYouKill.java:131)",
        "\tat org.eclipse.jetty.util.thread.ReservedThreadExecutor$ReservedThread.run(ReservedThreadExecutor.java:409)",
        "\tat com.databricks.rpc.InstrumentedQueuedThreadPool$$anon$1.$anonfun$run$4(InstrumentedQueuedThreadPool.scala:104)",
        "\tat scala.runtime.java8.JFunction0$mcV$sp.apply(JFunction0$mcV$sp.java:23)",
        "\tat com.databricks.logging.UsageLogging.$anonfun$withAttributionContext$1(UsageLogging.scala:426)",
        "\tat scala.util.DynamicVariable.withValue(DynamicVariable.scala:62)",
        "\tat com.databricks.logging.AttributionContext$.withValue(AttributionContext.scala:216)",
        "\tat com.databricks.logging.UsageLogging.withAttributionContext(UsageLogging.scala:424)",
        "\tat com.databricks.logging.UsageLogging.withAttributionContext$(UsageLogging.scala:418)",
        "\tat com.databricks.rpc.InstrumentedQueuedThreadPool.withAttributionContext(InstrumentedQueuedThreadPool.scala:47)",
        "\tat com.databricks.rpc.InstrumentedQueuedThreadPool$$anon$1.$anonfun$run$1(InstrumentedQueuedThreadPool.scala:104)",
        "\tat scala.runtime.java8.JFunction0$mcV$sp.apply(JFunction0$mcV$sp.java:23)",
        "\tat com.databricks.instrumentation.QueuedThreadPoolInstrumenter.trackActiveThreads(QueuedThreadPoolInstrumenter.scala:66)",
        "\tat com.databricks.instrumentation.QueuedThreadPoolInstrumenter.trackActiveThreads$(QueuedThreadPoolInstrumenter.scala:63)",
        "\tat com.databricks.rpc.InstrumentedQueuedThreadPool.trackActiveThreads(InstrumentedQueuedThreadPool.scala:47)",
        "\tat com.databricks.rpc.InstrumentedQueuedThreadPool$$anon$1.run(InstrumentedQueuedThreadPool.scala:86)",
        "\tat org.eclipse.jetty.util.thread.QueuedThreadPool.runJob(QueuedThreadPool.java:883)",
        "\tat org.eclipse.jetty.util.thread.QueuedThreadPool$Runner.run(QueuedThreadPool.java:1034)",
        "\tat java.lang.Thread.run(Thread.java:750)"
       ],
       "type": "baseError"
      }
     },
     "output_type": "display_data"
    }
   ],
   "source": [
    "%sql\n",
    "\n",
    "drop database if exists spark_catalog.bronze cascade"
   ]
  },
  {
   "cell_type": "code",
   "execution_count": 0,
   "metadata": {
    "application/vnd.databricks.v1+cell": {
     "cellMetadata": {},
     "inputWidgets": {},
     "nuid": "f56639b0-ff0f-4610-820a-c9274cf6431b",
     "showTitle": false,
     "tableResultSettingsMap": {},
     "title": ""
    }
   },
   "outputs": [],
   "source": [
    "%sql\n",
    "\n",
    "drop database if exists spark_catalog.silver cascade"
   ]
  },
  {
   "cell_type": "code",
   "execution_count": 0,
   "metadata": {
    "application/vnd.databricks.v1+cell": {
     "cellMetadata": {},
     "inputWidgets": {},
     "nuid": "6d39658b-28f4-4deb-95c4-632341ff22f6",
     "showTitle": false,
     "tableResultSettingsMap": {},
     "title": ""
    }
   },
   "outputs": [],
   "source": [
    "%sql\n",
    "\n",
    "drop database if exists spark_catalog.gold cascade"
   ]
  }
 ],
 "metadata": {
  "application/vnd.databricks.v1+notebook": {
   "computePreferences": null,
   "dashboards": [],
   "environmentMetadata": {
    "base_environment": "",
    "client": "1"
   },
   "language": "python",
   "notebookMetadata": {
    "pythonIndentUnit": 4
   },
   "notebookName": "Cleaning project structure",
   "widgets": {}
  }
 },
 "nbformat": 4,
 "nbformat_minor": 0
}
